{
 "cells": [
  {
   "cell_type": "code",
   "execution_count": 3,
   "metadata": {},
   "outputs": [],
   "source": [
    "import os"
   ]
  },
  {
   "cell_type": "code",
   "execution_count": 4,
   "metadata": {},
   "outputs": [
    {
     "data": {
      "text/plain": [
       "'c:\\\\Users\\\\user\\\\Downloads\\\\Text_Summarizer-main\\\\research'"
      ]
     },
     "execution_count": 4,
     "metadata": {},
     "output_type": "execute_result"
    }
   ],
   "source": [
    "%pwd"
   ]
  },
  {
   "cell_type": "code",
   "execution_count": 5,
   "metadata": {},
   "outputs": [],
   "source": [
    "os.chdir(\"../\")"
   ]
  },
  {
   "cell_type": "code",
   "execution_count": 6,
   "metadata": {},
   "outputs": [
    {
     "data": {
      "text/plain": [
       "'c:\\\\Users\\\\user\\\\Downloads\\\\Text_Summarizer-main'"
      ]
     },
     "execution_count": 6,
     "metadata": {},
     "output_type": "execute_result"
    }
   ],
   "source": [
    "%pwd"
   ]
  },
  {
   "cell_type": "code",
   "execution_count": 7,
   "metadata": {},
   "outputs": [],
   "source": [
    "from dataclasses import dataclass\n",
    "from pathlib import Path\n",
    "\n",
    "@dataclass(frozen=True)  # Immutable configuration object\n",
    "class DataTransformationConfig:\n",
    "    root_dir: Path        # Directory to save transformed datasets\n",
    "    data_path: Path       # Path to the input dataset\n",
    "    tokenizer_name: str   # Tokenizer name as a string\n"
   ]
  },
  {
   "cell_type": "code",
   "execution_count": 8,
   "metadata": {},
   "outputs": [],
   "source": [
    "import sys\n",
    "import os\n",
    "\n",
    "# Add src directory to sys.path\n",
    "sys.path.append(os.path.join(os.getcwd(), 'src'))\n",
    "\n",
    "from textSummariser.constants import *\n",
    "from textSummariser.utils.common import read_yaml, create_directories"
   ]
  },
  {
   "cell_type": "code",
   "execution_count": 15,
   "metadata": {},
   "outputs": [],
   "source": [
    "class ConfigurationManager:\n",
    "    def __init__(self, config_filepath=CONFIG_FILE_PATH, params_filepath=PARAMS_FILE_PATH):\n",
    "        # Load the configuration and parameters from YAML files\n",
    "        self.config = read_yaml(config_filepath)\n",
    "        self.params = read_yaml(params_filepath)\n",
    "        \n",
    "        # Create necessary directories\n",
    "        create_directories([self.config.artifacts_root])\n",
    "\n",
    "    def get_data_transformation_config(self) -> DataTransformationConfig:\n",
    "        # Check the structure of the loaded config\n",
    "        print(\"Loaded config:\", self.config)\n",
    "\n",
    "        # Assuming self.config is a dictionary with a 'data_transformation' section\n",
    "        config = self.config.get('data_transformation', None)\n",
    "        \n",
    "        if config is None or not all(key in config for key in ['root_dir', 'data_path', 'tokenizer_name']):\n",
    "            raise KeyError(\"Missing required keys in 'data_transformation' configuration.\")\n",
    "        \n",
    "        # Debug print to check config structure\n",
    "        print(\"Data Transformation Config loaded:\", config)\n",
    "        \n",
    "        create_directories([config['root_dir']])  # Ensure root_dir exists\n",
    "        \n",
    "        data_transformation_config = DataTransformationConfig(\n",
    "            root_dir=config['root_dir'],\n",
    "            data_path=config['data_path'],\n",
    "            tokenizer_name=config['tokenizer_name']\n",
    "        )\n",
    "        \n",
    "        return data_transformation_config\n"
   ]
  },
  {
   "cell_type": "code",
   "execution_count": 16,
   "metadata": {},
   "outputs": [],
   "source": [
    "import os\n",
    "from textSummariser.logging import logger\n",
    "from transformers import AutoTokenizer\n",
    "from datasets import load_dataset, load_from_disk"
   ]
  },
  {
   "cell_type": "code",
   "execution_count": 17,
   "metadata": {},
   "outputs": [],
   "source": [
    "'''class DataTransformation:\n",
    "    def __init__(self, config: DataTransformationConfig):\n",
    "        self.config = config\n",
    "        self.tokenizer = AutoTokenizer.from_pretrained(self.config.tokenizer_name)\n",
    "    \n",
    "    \n",
    "    def convert_example_to_features(self,example_batch):\n",
    "        input_encodings=self.tokenizer(example_batch['dialogue'],max_length=1024,truncation=True)\n",
    "        with self.tokenizer.as_target_tokenizer():\n",
    "            target_encodings=self.tokenizer(example_batch['summary'],max_length=128,truncation=True)\n",
    "\n",
    "        return{\n",
    "      'input_ids':input_encodings['input_ids'],\n",
    "      'attention_mask':input_encodings['attention_mask'],\n",
    "      'labels':target_encodings['input_ids']\n",
    "              }    \n",
    "        \n",
    "    def  convert(self):\n",
    "         dataset_samsum = load_from_disk(self.config.datapath)\n",
    "         dataset_samsum_pt = dataset_samsum.map(self.convert_examples_to_features, batched= True)\n",
    "         dataset_samsum_pt.save_to_disk(os.path.join(self.config.root_dir,\"samsum_dataset\"))'''\n",
    "\n",
    "import os\n",
    "from datasets import load_from_disk\n",
    "from transformers import AutoTokenizer\n",
    "\n",
    "class DataTransformation:\n",
    "    def __init__(self, config):\n",
    "        \"\"\"\n",
    "        Initialize the DataTransformation class with a configuration object.\n",
    "\n",
    "        Args:\n",
    "            config (DataTransformationConfig): Configuration object with:\n",
    "                - root_dir: Path to the directory to save transformed datasets.\n",
    "                - data_path: Path to the input dataset.\n",
    "                - tokenizer_name: Name of the tokenizer.\n",
    "        \"\"\"\n",
    "        self.config = config\n",
    "        self.tokenizer = AutoTokenizer.from_pretrained(self.config.tokenizer_name)\n",
    "    \n",
    "    def convert_example_to_features(self, example_batch):\n",
    "        \"\"\"\n",
    "        Convert a single example batch to features suitable for training.\n",
    "\n",
    "        Args:\n",
    "            example_batch (dict): A batch containing dialogue and summary.\n",
    "        \n",
    "        Returns:\n",
    "            dict: Encoded input and target features.\n",
    "        \"\"\"\n",
    "        input_encodings = self.tokenizer(\n",
    "            example_batch['dialogue'], \n",
    "            max_length=1024, \n",
    "            truncation=True\n",
    "        )\n",
    "\n",
    "        with self.tokenizer.as_target_tokenizer():\n",
    "            target_encodings = self.tokenizer(\n",
    "                example_batch['summary'], \n",
    "                max_length=128, \n",
    "                truncation=True\n",
    "            )\n",
    "\n",
    "        return {\n",
    "            'input_ids': input_encodings['input_ids'],\n",
    "            'attention_mask': input_encodings['attention_mask'],\n",
    "            'labels': target_encodings['input_ids']\n",
    "        }\n",
    "    \n",
    "    def convert(self):\n",
    "        \"\"\"\n",
    "        Load the dataset, process it, and save the transformed dataset.\n",
    "\n",
    "        Raises:\n",
    "            FileNotFoundError: If the dataset path does not exist.\n",
    "        \"\"\"\n",
    "        # Validate dataset path\n",
    "        if not os.path.exists(self.config.data_path):\n",
    "            raise FileNotFoundError(f\"Data path '{self.config.data_path}' does not exist.\")\n",
    "        \n",
    "        # Load dataset\n",
    "        dataset_samsum = load_from_disk(self.config.data_path)\n",
    "        \n",
    "        # Transform the dataset\n",
    "        dataset_samsum_pt = dataset_samsum.map(self.convert_example_to_features, batched=True)\n",
    "        \n",
    "        # Ensure the root directory exists\n",
    "        os.makedirs(self.config.root_dir, exist_ok=True)\n",
    "\n",
    "        # Save the transformed dataset\n",
    "        output_path = os.path.join(self.config.root_dir, \"samsum_dataset\")\n",
    "        dataset_samsum_pt.save_to_disk(output_path)\n",
    "         \n",
    "         \n",
    "            "
   ]
  },
  {
   "cell_type": "code",
   "execution_count": 18,
   "metadata": {},
   "outputs": [
    {
     "name": "stdout",
     "output_type": "stream",
     "text": [
      "[2024-12-19 07:10:19,097: INFO: common: created directory at: artifacts]\n",
      "Loaded config: {'artifacts_root': 'artifacts', 'data_ingestion': {'root_dir': 'artifacts/data_ingestion', 'source_URL': 'https://github.com/entbappy/Branching-tutorial/raw/master/summarizer-data.zip', 'local_data_file': 'artifacts/data_ingestion/data.zip', 'unzip_dir': 'artifacts/data_ingestion'}, 'data_root': 'artifacts/data_ingestion', 'data_validation': {'root_dir': 'artifacts/data_validation', 'STATUS_FILE': 'artifacts/data_validation/status.txt', 'ALL_REQUIRED_FILES': ['train', 'test', 'validation']}, 'data_transformation': {'root_dir': 'artifacts/data_transformation', 'data_path': 'artifacts/data_ingestion/samsum_dataset', 'tokenizer_name': 'google/pegasus-cnn_dailymail'}}\n",
      "Data Transformation Config loaded: {'root_dir': 'artifacts/data_transformation', 'data_path': 'artifacts/data_ingestion/samsum_dataset', 'tokenizer_name': 'google/pegasus-cnn_dailymail'}\n",
      "[2024-12-19 07:10:19,119: INFO: common: created directory at: artifacts/data_transformation]\n"
     ]
    },
    {
     "name": "stderr",
     "output_type": "stream",
     "text": [
      "c:\\Users\\user\\.conda\\envs\\textS\\lib\\site-packages\\huggingface_hub\\file_download.py:140: UserWarning: `huggingface_hub` cache-system uses symlinks by default to efficiently store duplicated files but your machine does not support them in C:\\Users\\user\\.cache\\huggingface\\hub\\models--google--pegasus-cnn_dailymail. Caching files will still work but in a degraded version that might require more space on your disk. This warning can be disabled by setting the `HF_HUB_DISABLE_SYMLINKS_WARNING` environment variable. For more details, see https://huggingface.co/docs/huggingface_hub/how-to-cache#limitations.\n",
      "To support symlinks on Windows, you either need to activate Developer Mode or to run Python as an administrator. In order to activate developer mode, see this article: https://docs.microsoft.com/en-us/windows/apps/get-started/enable-your-device-for-development\n",
      "  warnings.warn(message)\n",
      "Map:   0%|          | 0/14732 [00:00<?, ? examples/s]c:\\Users\\user\\.conda\\envs\\textS\\lib\\site-packages\\transformers\\tokenization_utils_base.py:4114: UserWarning: `as_target_tokenizer` is deprecated and will be removed in v5 of Transformers. You can tokenize your labels by using the argument `text_target` of the regular `__call__` method (either in the same call as your input texts if you use the same keyword arguments, or in a separate call.\n",
      "  warnings.warn(\n",
      "Map: 100%|██████████| 14732/14732 [00:23<00:00, 639.72 examples/s]\n",
      "Map: 100%|██████████| 819/819 [00:01<00:00, 647.70 examples/s]\n",
      "Map: 100%|██████████| 818/818 [00:02<00:00, 402.80 examples/s]\n",
      "Saving the dataset (1/1 shards): 100%|██████████| 14732/14732 [00:00<00:00, 56702.41 examples/s]\n",
      "Saving the dataset (1/1 shards): 100%|██████████| 819/819 [00:00<00:00, 26163.09 examples/s]\n",
      "Saving the dataset (1/1 shards): 100%|██████████| 818/818 [00:00<00:00, 10292.28 examples/s]\n"
     ]
    }
   ],
   "source": [
    "try:\n",
    "    config = ConfigurationManager()\n",
    "    data_transformation_config = config.get_data_transformation_config()\n",
    "    data_transformation = DataTransformation(data_transformation_config)\n",
    "    data_transformation.convert()\n",
    "except Exception as e:\n",
    "    raise e    "
   ]
  }
 ],
 "metadata": {
  "kernelspec": {
   "display_name": "textS",
   "language": "python",
   "name": "python3"
  },
  "language_info": {
   "codemirror_mode": {
    "name": "ipython",
    "version": 3
   },
   "file_extension": ".py",
   "mimetype": "text/x-python",
   "name": "python",
   "nbconvert_exporter": "python",
   "pygments_lexer": "ipython3",
   "version": "3.8.20"
  }
 },
 "nbformat": 4,
 "nbformat_minor": 2
}
