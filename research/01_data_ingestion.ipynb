{
 "cells": [
  {
   "cell_type": "code",
   "execution_count": 1,
   "metadata": {},
   "outputs": [],
   "source": [
    "import os"
   ]
  },
  {
   "cell_type": "code",
   "execution_count": 2,
   "metadata": {},
   "outputs": [
    {
     "data": {
      "text/plain": [
       "'c:\\\\Users\\\\user\\\\Downloads\\\\Text_Summarizer-main\\\\research'"
      ]
     },
     "execution_count": 2,
     "metadata": {},
     "output_type": "execute_result"
    }
   ],
   "source": [
    "%pwd"
   ]
  },
  {
   "cell_type": "code",
   "execution_count": 3,
   "metadata": {},
   "outputs": [],
   "source": [
    "os.chdir(\"../\")"
   ]
  },
  {
   "cell_type": "code",
   "execution_count": 4,
   "metadata": {},
   "outputs": [
    {
     "data": {
      "text/plain": [
       "'c:\\\\Users\\\\user\\\\Downloads\\\\Text_Summarizer-main'"
      ]
     },
     "execution_count": 4,
     "metadata": {},
     "output_type": "execute_result"
    }
   ],
   "source": [
    "%pwd"
   ]
  },
  {
   "cell_type": "code",
   "execution_count": 5,
   "metadata": {},
   "outputs": [],
   "source": [
    "from dataclasses import dataclass\n",
    "from pathlib import Path\n",
    "\n",
    "@dataclass(frozen=True)\n",
    "class DataIngestionConfig:\n",
    "    root_dir: Path\n",
    "    source_URL: str\n",
    "    local_data_file: Path\n",
    "    unzip_dir: Path"
   ]
  },
  {
   "cell_type": "code",
   "execution_count": 10,
   "metadata": {},
   "outputs": [],
   "source": [
    "import sys\n",
    "import os\n",
    "\n",
    "# Add src directory to sys.path\n",
    "sys.path.append(os.path.join(os.getcwd(), 'src'))\n",
    "\n",
    "from textSummariser.constants import *\n",
    "from textSummariser.utils.common import read_yaml, create_directories\n"
   ]
  },
  {
   "cell_type": "code",
   "execution_count": 37,
   "metadata": {},
   "outputs": [],
   "source": [
    "class ConfigurationManager:\n",
    "    def __init__(self, config_filepath=CONFIG_FILE_PATH, params_filepath=PARAMS_FILE_PATH):\n",
    "        # Load the configuration and parameters from YAML files\n",
    "        self.config = read_yaml(config_filepath)\n",
    "        self.params = read_yaml(params_filepath)\n",
    "        \n",
    "        # Create necessary directories\n",
    "        create_directories([self.config.artifacts_root])\n",
    "\n",
    "        # Access the 'data_ingestion' section from the config\n",
    "        data_ingestion_section = self.config.get('data_ingestion', {})\n",
    "\n",
    "        # Create the DataIngestionConfig object with the configuration data\n",
    "        self.data_ingestion_config = DataIngestionConfig(config=data_ingestion_section)\n",
    "\n",
    "    # Method to get the DataIngestionConfig object\n",
    "    def get_data_ingestion_config(self):\n",
    "        return self.data_ingestion_config\n"
   ]
  },
  {
   "cell_type": "code",
   "execution_count": 38,
   "metadata": {},
   "outputs": [],
   "source": [
    "import os\n",
    "import urllib.request as request \n",
    "import zipfile\n",
    "from textSummariser.logging import logger\n",
    "from textSummariser.utils.common import get_size\n"
   ]
  },
  {
   "cell_type": "code",
   "execution_count": 50,
   "metadata": {},
   "outputs": [],
   "source": [
    "import os\n",
    "import urllib.request\n",
    "import zipfile\n",
    "import logging\n",
    "\n",
    "logger = logging.getLogger(__name__)\n",
    "logging.basicConfig(level=logging.INFO)\n",
    "\n",
    "class DataIngestion:\n",
    "    def __init__(self, config):\n",
    "        self.config = config\n",
    "\n",
    "    def download_file(self):\n",
    "        local_data_file = self.config.local_data_file\n",
    "        # Ensure the full path for data_ingestion folder exists\n",
    "        directory_path = os.path.dirname(local_data_file)\n",
    "        \n",
    "        # Ensure the full directory path exists (both artifacts and data_ingestion)\n",
    "        if not os.path.exists(directory_path):\n",
    "            os.makedirs(directory_path)  # Creates parent directories if they don't exist\n",
    "            logger.info(f\"Created directory: {directory_path}\")\n",
    "        \n",
    "        if not os.path.exists(local_data_file):\n",
    "            logger.info(f\"Downloading file from {self.config.source_URL} to {local_data_file}\")\n",
    "            \n",
    "            try:\n",
    "                filename, headers = urllib.request.urlretrieve(url=self.config.source_URL, filename=local_data_file)\n",
    "                logger.info(f\"Downloaded {filename} with the following headers: \\n{headers}\")\n",
    "            except Exception as e:\n",
    "                logger.error(f\"Error downloading file: {e}\")\n",
    "        else:\n",
    "            logger.info(f\"{local_data_file} already exists.\")\n",
    "\n",
    "    def extract_zip_file(self):\n",
    "        unzip_path = self.config.unzip_dir\n",
    "        \n",
    "        # Ensure the unzip directory exists\n",
    "        if not os.path.exists(unzip_path):\n",
    "            os.makedirs(unzip_path)\n",
    "            logger.info(f\"Created directory: {unzip_path}\")\n",
    "        \n",
    "        try:\n",
    "            with zipfile.ZipFile(self.config.local_data_file, 'r') as zip_ref:\n",
    "                zip_ref.extractall(unzip_path)\n",
    "                logger.info(f\"Extracted files to {unzip_path}\")\n",
    "        except Exception as e:\n",
    "            logger.error(f\"Error extracting zip file: {e}\")\n"
   ]
  },
  {
   "cell_type": "code",
   "execution_count": 51,
   "metadata": {},
   "outputs": [
    {
     "name": "stdout",
     "output_type": "stream",
     "text": [
      "[2024-12-18 11:19:49,931: INFO: common: yaml file: config\\config.yaml loaded successfully]\n",
      "[2024-12-18 11:19:49,935: INFO: common: yaml file: params.yaml loaded successfully]\n",
      "[2024-12-18 11:19:49,939: INFO: common: created directory at: artifacts]\n",
      "[2024-12-18 11:20:16,826: INFO: 461438356: Downloaded artifacts/data_ingestion/data.zip with following info: \n",
      "Connection: close\n",
      "Content-Length: 7903594\n",
      "Cache-Control: max-age=300\n",
      "Content-Security-Policy: default-src 'none'; style-src 'unsafe-inline'; sandbox\n",
      "Content-Type: application/zip\n",
      "ETag: \"dbc016a060da18070593b83afff580c9b300f0b6ea4147a7988433e04df246ca\"\n",
      "Strict-Transport-Security: max-age=31536000\n",
      "X-Content-Type-Options: nosniff\n",
      "X-Frame-Options: deny\n",
      "X-XSS-Protection: 1; mode=block\n",
      "X-GitHub-Request-Id: F0D6:157CD7:D5325:10C5B1:67625CEA\n",
      "Accept-Ranges: bytes\n",
      "Date: Wed, 18 Dec 2024 05:49:56 GMT\n",
      "Via: 1.1 varnish\n",
      "X-Served-By: cache-del21740-DEL\n",
      "X-Cache: HIT\n",
      "X-Cache-Hits: 0\n",
      "X-Timer: S1734500997.855487,VS0,VE1\n",
      "Vary: Authorization,Accept-Encoding,Origin\n",
      "Access-Control-Allow-Origin: *\n",
      "Cross-Origin-Resource-Policy: cross-origin\n",
      "X-Fastly-Request-ID: cacbf909734cdd3bbf43e38755b12f446930420d\n",
      "Expires: Wed, 18 Dec 2024 05:54:56 GMT\n",
      "Source-Age: 241\n",
      "\n",
      "]\n"
     ]
    }
   ],
   "source": [
    "try:\n",
    "    # Initialize ConfigurationManager to load config.yaml\n",
    "    config = ConfigurationManager()\n",
    "\n",
    "    # Get the data ingestion config\n",
    "    data_ingestion_config = config.get_data_ingestion_config()\n",
    "\n",
    "    # Initialize DataIngestion with the config\n",
    "    data_ingestion = DataIngestion(config=data_ingestion_config)\n",
    "\n",
    "    # Download the file and extract the contents\n",
    "    data_ingestion_config.download_file()\n",
    "    data_ingestion_config.extract_zip_file()\n",
    "\n",
    "except Exception as e:\n",
    "    logger.error(f\"Error during data ingestion process: {e}\")\n"
   ]
  }
 ],
 "metadata": {
  "kernelspec": {
   "display_name": "textS",
   "language": "python",
   "name": "python3"
  },
  "language_info": {
   "codemirror_mode": {
    "name": "ipython",
    "version": 3
   },
   "file_extension": ".py",
   "mimetype": "text/x-python",
   "name": "python",
   "nbconvert_exporter": "python",
   "pygments_lexer": "ipython3",
   "version": "3.8.20"
  }
 },
 "nbformat": 4,
 "nbformat_minor": 2
}
